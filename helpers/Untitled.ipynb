{
 "cells": [
  {
   "cell_type": "code",
   "execution_count": 1,
   "metadata": {},
   "outputs": [],
   "source": [
    "lab_members = ['Adam Stevens',\n",
    "'Arsenia deGuzman',\n",
    "'Cameron Ostroot',\n",
    "'Devan Shah',\n",
    "'Greg Allen',\n",
    "'Hersh Bhargava',\n",
    "'Jason Duecker',\n",
    "'Jeremy Villafuerte',\n",
    "'Josiah Gerdts',\n",
    "'Jungmin Lee',\n",
    "'Ki Kim',\n",
    "'Kyle Daniels',\n",
    "'Milos Simic',\n",
    "'Nish Reddy',\n",
    "'Oscar Campos',\n",
    "'Pilar Lopez',\n",
    "'Ricardo Almeida',\n",
    "'Rogelio Hernandez-Lopez',\n",
    "'Sim Sidhu',\n",
    "'Toshimichi Yamada',\n",
    "'Wei Yu']"
   ]
  },
  {
   "cell_type": "code",
   "execution_count": 10,
   "metadata": {},
   "outputs": [
    {
     "name": "stdout",
     "output_type": "stream",
     "text": [
      "li.member\n",
      "\ta(href=\"people/adamstevens.html\") Adam Stevens\n",
      "li.member\n",
      "\ta(href=\"people/arseniadeguzman.html\") Arsenia deGuzman\n",
      "li.member\n",
      "\ta(href=\"people/cameronostroot.html\") Cameron Ostroot\n",
      "li.member\n",
      "\ta(href=\"people/devanshah.html\") Devan Shah\n",
      "li.member\n",
      "\ta(href=\"people/gregallen.html\") Greg Allen\n",
      "li.member\n",
      "\ta(href=\"people/hershbhargava.html\") Hersh Bhargava\n",
      "li.member\n",
      "\ta(href=\"people/jasonduecker.html\") Jason Duecker\n",
      "li.member\n",
      "\ta(href=\"people/jeremyvillafuerte.html\") Jeremy Villafuerte\n",
      "li.member\n",
      "\ta(href=\"people/josiahgerdts.html\") Josiah Gerdts\n",
      "li.member\n",
      "\ta(href=\"people/jungminlee.html\") Jungmin Lee\n",
      "li.member\n",
      "\ta(href=\"people/kikim.html\") Ki Kim\n",
      "li.member\n",
      "\ta(href=\"people/kyledaniels.html\") Kyle Daniels\n",
      "li.member\n",
      "\ta(href=\"people/milossimic.html\") Milos Simic\n",
      "li.member\n",
      "\ta(href=\"people/nishreddy.html\") Nish Reddy\n",
      "li.member\n",
      "\ta(href=\"people/oscarcampos.html\") Oscar Campos\n",
      "li.member\n",
      "\ta(href=\"people/pilarlopez.html\") Pilar Lopez\n",
      "li.member\n",
      "\ta(href=\"people/ricardoalmeida.html\") Ricardo Almeida\n",
      "li.member\n",
      "\ta(href=\"people/rogeliohernandez-lopez.html\") Rogelio Hernandez-Lopez\n",
      "li.member\n",
      "\ta(href=\"people/simsidhu.html\") Sim Sidhu\n",
      "li.member\n",
      "\ta(href=\"people/toshimichiyamada.html\") Toshimichi Yamada\n",
      "li.member\n",
      "\ta(href=\"people/weiyu.html\") Wei Yu\n"
     ]
    }
   ],
   "source": [
    "for member in lab_members:\n",
    "    scrubbed = member.replace(\" \", \"\").lower()\n",
    "    print('li.member')\n",
    "    print('\\ta(href=\"people/%s.html\") %s' % (scrubbed, member))"
   ]
  },
  {
   "cell_type": "code",
   "execution_count": 7,
   "metadata": {},
   "outputs": [],
   "source": [
    "test = 'Hersh Bhargava'.replace(\" \", \"\").lower()\n",
    "# li.member \n",
    "# \ta(href = \"people/foo.html\") Ashley Koegel\n"
   ]
  },
  {
   "cell_type": "code",
   "execution_count": 8,
   "metadata": {},
   "outputs": [
    {
     "data": {
      "text/plain": [
       "'hershbhargava'"
      ]
     },
     "execution_count": 8,
     "metadata": {},
     "output_type": "execute_result"
    }
   ],
   "source": [
    "test"
   ]
  },
  {
   "cell_type": "code",
   "execution_count": null,
   "metadata": {},
   "outputs": [],
   "source": []
  }
 ],
 "metadata": {
  "kernelspec": {
   "display_name": "Python 3",
   "language": "python",
   "name": "python3"
  },
  "language_info": {
   "codemirror_mode": {
    "name": "ipython",
    "version": 3
   },
   "file_extension": ".py",
   "mimetype": "text/x-python",
   "name": "python",
   "nbconvert_exporter": "python",
   "pygments_lexer": "ipython3",
   "version": "3.8.12"
  }
 },
 "nbformat": 4,
 "nbformat_minor": 4
}
